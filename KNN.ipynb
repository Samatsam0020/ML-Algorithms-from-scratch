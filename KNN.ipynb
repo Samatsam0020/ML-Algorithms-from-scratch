{
 "cells": [
  {
   "cell_type": "code",
   "execution_count": 27,
   "id": "7c824afc-46d7-42b6-bfde-ab3cb586aca6",
   "metadata": {},
   "outputs": [],
   "source": [
    "import numpy as np\n",
    "from collections import Counter"
   ]
  },
  {
   "cell_type": "code",
   "execution_count": 28,
   "id": "278e8372-c270-4654-98af-5b0021faaac9",
   "metadata": {},
   "outputs": [],
   "source": [
    "def euclidean_distance(x1, x2) :\n",
    "    distance = np.sqrt(np.sum((x1-x2)**2))\n",
    "    return distance"
   ]
  },
  {
   "cell_type": "code",
   "execution_count": 29,
   "id": "b9662fbd-b3b7-4ff5-ada2-dfdbd26d5b1a",
   "metadata": {},
   "outputs": [],
   "source": [
    "class KNN : \n",
    "    def __init__(self, k=3) : \n",
    "        self.k = k\n",
    "\n",
    "    def fit(self, X, y) : \n",
    "        self.X_train = X\n",
    "        self.y_train = y\n",
    "\n",
    "    def predict(self, X) :\n",
    "        predictions = [self._predict(x) for x in X]\n",
    "        return predictions\n",
    "\n",
    "    def _predict(self, x) :\n",
    "        #compute the distance\n",
    "        distances = [euclidean_distance(x,x_train) for x_train in self.X_train]\n",
    "        \n",
    "        #get closest k neighbor\n",
    "        k_indices = np.argsort(distances)[:self.k]\n",
    "        k_nearest_labels = [self.y_train[i] for i in k_indices]\n",
    "\n",
    "        #get majority vote\n",
    "        most_common = Counter(k_nearest_labels).most_common()\n",
    "\n",
    "        return most_common[0][0]"
   ]
  },
  {
   "cell_type": "code",
   "execution_count": 30,
   "id": "0bb1f839-eff0-4adc-a6a6-26c6295d4267",
   "metadata": {},
   "outputs": [],
   "source": [
    "from sklearn import datasets\n",
    "from sklearn.model_selection import train_test_split\n",
    "from sklearn.metrics import accuracy_score"
   ]
  },
  {
   "cell_type": "code",
   "execution_count": 31,
   "id": "26a11f2d-c12b-49d2-a811-9e0ad986cf8c",
   "metadata": {},
   "outputs": [],
   "source": [
    "iris = datasets.load_iris()\n",
    "X,y = iris.data, iris.target\n",
    "\n",
    "x_train, x_test, y_train, y_test = train_test_split(X,y, test_size=0.5)"
   ]
  },
  {
   "cell_type": "code",
   "execution_count": 32,
   "id": "83115e6f-0062-46fb-84d5-d2b336c000ee",
   "metadata": {},
   "outputs": [],
   "source": [
    "model = KNN(k=5)\n",
    "model.fit(x_train, y_train)\n",
    "predictions = model.predict(x_test)"
   ]
  },
  {
   "cell_type": "code",
   "execution_count": 33,
   "id": "d8ae4044-6b9f-4c44-bc22-add793f5d918",
   "metadata": {},
   "outputs": [
    {
     "name": "stdout",
     "output_type": "stream",
     "text": [
      "0.9333333333333333\n"
     ]
    }
   ],
   "source": [
    "accuracy = np.sum(predictions==y_test)/len(y_test)\n",
    "print(accuracy)"
   ]
  }
 ],
 "metadata": {
  "kernelspec": {
   "display_name": "Python 3 (ipykernel)",
   "language": "python",
   "name": "python3"
  },
  "language_info": {
   "codemirror_mode": {
    "name": "ipython",
    "version": 3
   },
   "file_extension": ".py",
   "mimetype": "text/x-python",
   "name": "python",
   "nbconvert_exporter": "python",
   "pygments_lexer": "ipython3",
   "version": "3.12.3"
  }
 },
 "nbformat": 4,
 "nbformat_minor": 5
}
